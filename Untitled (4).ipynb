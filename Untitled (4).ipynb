{
 "cells": [
  {
   "cell_type": "markdown",
   "id": "bfc7a20b-5e39-49da-b1f4-0b7b37a9c56d",
   "metadata": {
    "tags": []
   },
   "source": [
    "# Questions:-"
   ]
  },
  {
   "cell_type": "markdown",
   "id": "62093859-7a37-4cbb-bcee-9029d279a249",
   "metadata": {},
   "source": [
    "* Q1: What is Estimation Statistics? Explain point estimate and interval estimate.\n",
    "* Q2. Write a Python function to estimate the population mean using a sample mean and standard\n",
    "deviation.\n",
    "* Q3: What is Hypothesis testing? Why is it used? State the importance of Hypothesis testing.\n",
    "* Q4. Create a hypothesis that states whether the average weight of male college students is greater than\n",
    "the average weight of female college students.\n",
    "* Q5. Write a Python script to conduct a hypothesis test on the difference between two population means,\n",
    "given a sample from each population.\n",
    "* Q6: What is a null and alternative hypothesis? Give some examples.\n",
    "* Q7: Write down the steps involved in hypothesis testing.\n",
    "* Q8. Define p-value and explain its significance in hypothesis testing.\n",
    "* Q9. Generate a Student's t-distribution plot using Python's matplotlib library, with the degrees of freedom\n",
    "parameter set to 10.\n",
    "* Q10. Write a Python program to calculate the two-sample t-test for independent samples, given two\n",
    "random samples of equal size and a null hypothesis that the population means are equal.\n",
    "* Q11: What is Student’s t distribution? When to use the t-Distribution.\n",
    "* Q12: What is t-statistic? State the formula for t-statistic.\n",
    "* Q13. A coffee shop owner wants to estimate the average daily revenue for their shop. They take a random\n",
    "sample of 50 days and find the sample mean revenue to be $500 with a standard deviation of $50.\n",
    "Estimate the population mean revenue with a 95% confidence interval.\n",
    "* Q14. A researcher hypothesizes that a new drug will decrease blood pressure by 10 mmHg. They conduct a\n",
    "clinical trial with 100 patients and find that the sample mean decrease in blood pressure is 8 mmHg with a\n",
    "standard deviation of 3 mmHg. Test the hypothesis with a significance level of 0.05.\n",
    "* Q15. An electronics company produces a certain type of product with a mean weight of 5 pounds and a\n",
    "standard deviation of 0.5 pounds. A random sample of 25 products is taken, and the sample mean weight\n",
    "is found to be 4.8 pounds. Test the hypothesis that the true mean weight of the products is less than 5\n",
    "pounds with a significance level of 0.01.\n",
    "* Q16. Two groups of students are given different study materials to prepare for a test. The first group (n1 =30) has a mean score of 80 with a standard deviation of 10, and the second group (n2 = 40) has a meanscore of 75 with a standard deviation of 8. Test the hypothesis that the population means for the twogroups are equal with a significance level of 0.01.\n",
    "* Q17. A marketing company wants to estimate the average number of ads watched by viewers during a TV\n",
    "program. They take a random sample of 50 viewers and find that the sample mean is 4 with a standard\n",
    "deviation of 1.5. Estimate the population mean with a 99% confidence interval."
   ]
  },
  {
   "cell_type": "markdown",
   "id": "fafb4d5e-d495-47d1-a6a6-65e97c71c9ab",
   "metadata": {},
   "source": [
    "## Answers:-"
   ]
  },
  {
   "cell_type": "markdown",
   "id": "17989519-28b3-4239-912e-0062b1929136",
   "metadata": {},
   "source": [
    "* Q1.\n",
    "\n",
    "Estimation statistics involves using sample data to make inferences or estimates about population parameters. A point estimate is a single value (e.g., sample mean) that is used to approximate the population parameter. An interval estimate, on the other hand, provides a range of values within which the true population parameter is likely to fall, along with a level of confidence associated with this interval."
   ]
  },
  {
   "cell_type": "markdown",
   "id": "30c51daa-f402-4e16-b96d-215e0ba12508",
   "metadata": {},
   "source": [
    "* Q2."
   ]
  },
  {
   "cell_type": "code",
   "execution_count": 1,
   "id": "ee9e791e-37c5-4392-b63a-4c8deb01b615",
   "metadata": {},
   "outputs": [
    {
     "name": "stdout",
     "output_type": "stream",
     "text": [
      "Population mean estimate (95% confidence interval): (48.04, 51.96)\n"
     ]
    }
   ],
   "source": [
    "def estimate_population_mean(sample_mean, sample_std, sample_size):\n",
    "    margin_of_error = 1.96 * (sample_std / (sample_size ** 0.5))  # 1.96 for 95% confidence interval\n",
    "    confidence_interval = (sample_mean - margin_of_error, sample_mean + margin_of_error)\n",
    "    return confidence_interval\n",
    "\n",
    "# Example usage:\n",
    "sample_mean = 50\n",
    "sample_std = 10\n",
    "sample_size = 100\n",
    "result = estimate_population_mean(sample_mean, sample_std, sample_size)\n",
    "print(\"Population mean estimate (95% confidence interval):\", result)\n"
   ]
  },
  {
   "cell_type": "markdown",
   "id": "e0e36c17-fc82-43c5-b119-ac74c23b8ccb",
   "metadata": {},
   "source": [
    "* Q3.\n",
    "\n",
    "Hypothesis testing is a statistical method used to make inferences about population parameters based on sample data. It involves formulating a hypothesis about the population parameter, collecting and analyzing data, and drawing conclusions regarding the validity of the hypothesis. Hypothesis testing is crucial in scientific research and decision-making as it provides a structured approach to assess the significance of observed effects, relationships, or differences."
   ]
  },
  {
   "cell_type": "markdown",
   "id": "de505d0f-022c-485e-882a-1c399132384b",
   "metadata": {},
   "source": [
    "* Q4.\n",
    "\n",
    "Null Hypothesis (H0): The average weight of male college students is equal to or less than the average weight of female college students.\n",
    "\n",
    "Alternative Hypothesis (H1): The average weight of male college students is greater than the average weight of female college students."
   ]
  },
  {
   "cell_type": "markdown",
   "id": "bd93a891-e176-4bf5-bab8-57961ea8e223",
   "metadata": {},
   "source": [
    "* Q5."
   ]
  },
  {
   "cell_type": "code",
   "execution_count": 2,
   "id": "2d8f4330-8b2a-4be5-acac-83f5963ff612",
   "metadata": {},
   "outputs": [
    {
     "name": "stdout",
     "output_type": "stream",
     "text": [
      "t-statistic: 0.5741692517632145\n",
      "p-value: 0.5816333668955778\n"
     ]
    }
   ],
   "source": [
    "import scipy.stats as stats\n",
    "\n",
    "def two_sample_t_test(sample1, sample2):\n",
    "    t_stat, p_value = stats.ttest_ind(sample1, sample2)\n",
    "    return t_stat, p_value\n",
    "\n",
    "# Example usage:\n",
    "sample1 = [25, 30, 35, 40, 45]\n",
    "sample2 = [20, 28, 32, 38, 42]\n",
    "result = two_sample_t_test(sample1, sample2)\n",
    "print(\"t-statistic:\", result[0])\n",
    "print(\"p-value:\", result[1])"
   ]
  },
  {
   "cell_type": "markdown",
   "id": "8dc6dfb5-659a-4fca-9f08-d93fda9834e8",
   "metadata": {},
   "source": [
    "* Q6."
   ]
  },
  {
   "cell_type": "markdown",
   "id": "8a2edcd8-d66e-4159-b5b3-ad505e1e89b3",
   "metadata": {},
   "source": [
    "The null hypothesis (H0) is a statement that there is no significant difference or effect, while the alternative hypothesis (H1) posits a specific difference or effect. Examples:\n",
    "\n",
    "H0: The mean height of plants treated with fertilizer A is equal to the mean height of plants treated with fertilizer B.\n",
    "H1: The mean height of plants treated with fertilizer A is not equal to the mean height of plants treated with fertilizer B."
   ]
  },
  {
   "cell_type": "markdown",
   "id": "a3ee610f-ce45-48e3-a364-6a1fb9b7be9f",
   "metadata": {},
   "source": [
    "* Q7.\n",
    "\n",
    "Formulate Hypotheses (Null and Alternative).\n",
    "\n",
    "Select Significance Level (e.g., 0.05).\n",
    "\n",
    "Collect and Analyze Data.\n",
    "\n",
    "Calculate Test Statistic.\n",
    "\n",
    "Determine Critical Region or P-value.\n",
    "\n",
    "Make a Decision (Reject or Fail to Reject Null Hypothesis).\n",
    "\n",
    "Draw Conclusions and Interpret Results."
   ]
  },
  {
   "cell_type": "markdown",
   "id": "3784d79b-73e3-4762-a8fb-49fc87013f7c",
   "metadata": {},
   "source": [
    "* Q8.\n",
    "\n",
    "The p-value is the probability of observing a test statistic as extreme as, or more extreme than, the one calculated from the sample data, assuming the null hypothesis is true. A lower p-value suggests stronger evidence against the null hypothesis. Typically, if the p-value is less than the chosen significance level (e.g., 0.05), the null hypothesis is rejected.\n"
   ]
  },
  {
   "cell_type": "markdown",
   "id": "dc4bb944-744a-4238-a838-b533b2c30f69",
   "metadata": {},
   "source": [
    "* Q9."
   ]
  },
  {
   "cell_type": "code",
   "execution_count": 4,
   "id": "6abbdb54-6fdb-45dd-9ba6-ef27ec92bc19",
   "metadata": {},
   "outputs": [
    {
     "data": {
      "image/png": "[encoded data removed]",
      "text/plain": [
       "<Figure size 640x480 with 1 Axes>"
      ]
     },
     "metadata": {},
     "output_type": "display_data"
    }
   ],
   "source": [
    "import matplotlib.pyplot as plt\n",
    "import numpy as np\n",
    "import scipy.stats as stats\n",
    "\n",
    "df = 10\n",
    "x = np.linspace(stats.t.ppf(0.01, df), stats.t.ppf(0.99, df), 100)\n",
    "plt.plot(x, stats.t.pdf(x, df), label='t-distribution (df=10)')\n",
    "plt.title(\"Student's t-distribution\")\n",
    "plt.xlabel('x')\n",
    "plt.ylabel('Probability Density Function')\n",
    "plt.legend()\n",
    "plt.show()\n"
   ]
  },
  {
   "cell_type": "markdown",
   "id": "3379a2c3-52fc-4f8a-9e60-72d3f2519d7c",
   "metadata": {},
   "source": [
    "* Q10."
   ]
  },
  {
   "cell_type": "code",
   "execution_count": 5,
   "id": "112af9fe-8282-4ca8-ba2c-dfdafcb803e7",
   "metadata": {},
   "outputs": [
    {
     "name": "stdout",
     "output_type": "stream",
     "text": [
      "t-statistic: 0.5741692517632145\n",
      "p-value: 0.5816333668955778\n"
     ]
    }
   ],
   "source": [
    "import scipy.stats as stats\n",
    "\n",
    "def two_sample_t_test(sample1, sample2):\n",
    "    t_stat, p_value = stats.ttest_ind(sample1, sample2)\n",
    "    return t_stat, p_value\n",
    "\n",
    "# Example usage:\n",
    "sample1 = [25, 30, 35, 40, 45]\n",
    "sample2 = [20, 28, 32, 38, 42]\n",
    "result = two_sample_t_test(sample1, sample2)\n",
    "print(\"t-statistic:\", result[0])\n",
    "print(\"p-value:\", result[1])\n"
   ]
  },
  {
   "cell_type": "markdown",
   "id": "bf8c197f-6539-44cd-b34d-073eef8fe639",
   "metadata": {},
   "source": [
    "* Q11."
   ]
  },
  {
   "cell_type": "markdown",
   "id": "7f904624-c5b6-4d40-a102-94dd6b0029bb",
   "metadata": {},
   "source": [
    "The Student's t-distribution is a probability distribution used in hypothesis testing when the sample size is small and the population standard deviation is unknown. It is wider and has heavier tails compared to the normal distribution. The t-distribution is appropriate when dealing with small sample sizes or when the population standard deviation is not known."
   ]
  },
  {
   "cell_type": "markdown",
   "id": "36e14715-0315-431c-b8e9-c6a89d3004df",
   "metadata": {},
   "source": [
    "* Q12.\n",
    "\n",
    "The t-statistic is a measure that quantifies the difference between the sample mean and the population mean in terms of the standard error."
   ]
  },
  {
   "cell_type": "markdown",
   "id": "9fb24895-fe7c-4f5c-a716-92da3ed7a2fa",
   "metadata": {},
   "source": [
    "* Q13."
   ]
  },
  {
   "cell_type": "code",
   "execution_count": 11,
   "id": "3a4f152b-2ab9-4392-a808-f230c72d0e86",
   "metadata": {},
   "outputs": [
    {
     "name": "stdout",
     "output_type": "stream",
     "text": [
      "95% Confidence Interval for population mean revenue: (514.2098427561186, 485.79015724388137)\n"
     ]
    }
   ],
   "source": [
    "import scipy.stats as stats\n",
    "\n",
    "# Given values\n",
    "sample_mean = 500\n",
    "sample_std = 50\n",
    "sample_size = 50\n",
    "confidence_level = 0.95\n",
    "\n",
    "# Degrees of freedom (df)\n",
    "df = sample_size - 1\n",
    "\n",
    "# Calculate the margin of error\n",
    "margin_of_error = stats.t.ppf((1-confidence_level) / 2, df) * (sample_std / (sample_size ** 0.5))\n",
    "\n",
    "# Calculate the confidence interval\n",
    "confidence_interval = (sample_mean - margin_of_error, sample_mean + margin_of_error)\n",
    "\n",
    "print(\"95% Confidence Interval for population mean revenue:\", confidence_interval)\n"
   ]
  },
  {
   "cell_type": "markdown",
   "id": "e8ad30c4-a72e-4972-a91b-b35235a26b37",
   "metadata": {},
   "source": [
    "* Q14.\n",
    "\n",
    "H0 : mu=10\n",
    "\n",
    "H1 : mu<10"
   ]
  },
  {
   "cell_type": "code",
   "execution_count": 1,
   "id": "f0e13f87-3bb2-44cf-84ca-917073b51674",
   "metadata": {},
   "outputs": [
    {
     "name": "stdout",
     "output_type": "stream",
     "text": [
      "Reject the null hypothesis. There is evidence of a decrease in blood pressure.\n"
     ]
    }
   ],
   "source": [
    "import scipy.stats as stats\n",
    "\n",
    "# Given values\n",
    "mu = 10\n",
    "sample_mean = 8\n",
    "sample_std = 3\n",
    "sample_size = 100\n",
    "alpha = 0.05\n",
    "\n",
    "# Calculate the test statistic\n",
    "t_stat = (sample_mean - mu) / (sample_std / (sample_size ** 0.5))\n",
    "\n",
    "# Calculate critical t-value for a one-tailed test\n",
    "critical_t_value = stats.t.ppf(alpha, df=sample_size - 1)\n",
    "\n",
    "# Compare the test statistic with the critical t-value\n",
    "if t_stat < critical_t_value:\n",
    "    print(\"Reject the null hypothesis. There is evidence of a decrease in blood pressure.\")\n",
    "else:\n",
    "    print(\"Fail to reject the null hypothesis. Insufficient evidence of a decrease in blood pressure.\")\n"
   ]
  },
  {
   "cell_type": "markdown",
   "id": "cf446bae-5944-4ebf-824c-361b057ee7f7",
   "metadata": {},
   "source": [
    "* Q15."
   ]
  },
  {
   "cell_type": "code",
   "execution_count": 2,
   "id": "8aa74ff1-15aa-474f-ab9d-9fe661250c98",
   "metadata": {},
   "outputs": [
    {
     "name": "stdout",
     "output_type": "stream",
     "text": [
      "Fail to reject the null hypothesis. Insufficient evidence of the true mean weight being less than 5 pounds.\n"
     ]
    }
   ],
   "source": [
    "# Given values\n",
    "mu_weight = 5\n",
    "sample_mean_weight = 4.8\n",
    "sample_std_weight = 0.5\n",
    "sample_size_weight = 25\n",
    "alpha_weight = 0.01\n",
    "\n",
    "# Calculate the test statistic\n",
    "t_stat_weight = (sample_mean_weight - mu_weight) / (sample_std_weight / (sample_size_weight ** 0.5))\n",
    "\n",
    "# Calculate critical t-value for a one-tailed test\n",
    "critical_t_value_weight = stats.t.ppf(alpha_weight, df=sample_size_weight - 1)\n",
    "\n",
    "# Compare the test statistic with the critical t-value\n",
    "if t_stat_weight < critical_t_value_weight:\n",
    "    print(\"Reject the null hypothesis. There is evidence of the true mean weight being less than 5 pounds.\")\n",
    "else:\n",
    "    print(\"Fail to reject the null hypothesis. Insufficient evidence of the true mean weight being less than 5 pounds.\")\n"
   ]
  },
  {
   "cell_type": "markdown",
   "id": "9b63673b-3717-43cd-9c64-145655fe000c",
   "metadata": {},
   "source": [
    "* Q15."
   ]
  },
  {
   "cell_type": "code",
   "execution_count": 3,
   "id": "4c11db4a-3e15-4e76-b503-455182132376",
   "metadata": {},
   "outputs": [
    {
     "name": "stdout",
     "output_type": "stream",
     "text": [
      "Fail to reject the null hypothesis. Insufficient evidence of a difference in population means.\n"
     ]
    }
   ],
   "source": [
    "# Given values\n",
    "sample_mean_group1 = 80\n",
    "sample_std_group1 = 10\n",
    "sample_size_group1 = 30\n",
    "sample_mean_group2 = 75\n",
    "sample_std_group2 = 8\n",
    "sample_size_group2 = 40\n",
    "alpha_groups = 0.01\n",
    "\n",
    "# Calculate the test statistic\n",
    "pooled_std = ((sample_std_group1**2 / sample_size_group1) + (sample_std_group2**2 / sample_size_group2)) ** 0.5\n",
    "t_stat_groups = (sample_mean_group1 - sample_mean_group2) / pooled_std\n",
    "\n",
    "# Calculate critical t-value for a two-tailed test\n",
    "critical_t_value_groups = stats.t.ppf(1 - alpha_groups/2, df=sample_size_group1 + sample_size_group2 - 2)\n",
    "\n",
    "# Compare the test statistic with the critical t-value\n",
    "if abs(t_stat_groups) > critical_t_value_groups:\n",
    "    print(\"Reject the null hypothesis. There is evidence of a difference in population means.\")\n",
    "else:\n",
    "    print(\"Fail to reject the null hypothesis. Insufficient evidence of a difference in population means.\")\n"
   ]
  },
  {
   "cell_type": "markdown",
   "id": "3360cf1d-53cc-4db9-b05d-531a4759d229",
   "metadata": {},
   "source": [
    "* Q16."
   ]
  },
  {
   "cell_type": "code",
   "execution_count": 4,
   "id": "464c5afd-6fbe-4418-b717-49f515869870",
   "metadata": {},
   "outputs": [
    {
     "name": "stdout",
     "output_type": "stream",
     "text": [
      "99% Confidence Interval for population mean ads watched: (3.4314963358572577, 4.568503664142742)\n"
     ]
    }
   ],
   "source": [
    "# Given values\n",
    "sample_mean_ads = 4\n",
    "sample_std_ads = 1.5\n",
    "sample_size_ads = 50\n",
    "confidence_level_ads = 0.99\n",
    "\n",
    "# Calculate the margin of error\n",
    "margin_of_error_ads = stats.t.ppf((1 + confidence_level_ads) / 2, df=sample_size_ads-1) * (sample_std_ads / (sample_size_ads ** 0.5))\n",
    "\n",
    "# Calculate the confidence interval\n",
    "confidence_interval_ads = (sample_mean_ads - margin_of_error_ads, sample_mean_ads + margin_of_error_ads)\n",
    "\n",
    "print(\"99% Confidence Interval for population mean ads watched:\", confidence_interval_ads)\n"
   ]
  },
  {
   "cell_type": "code",
   "execution_count": null,
   "id": "ec9b87fb-fe93-440f-a21e-68cc3b1f1a37",
   "metadata": {},
   "outputs": [],
   "source": []
  }
 ],
 "metadata": {
  "kernelspec": {
   "display_name": "Python 3 (ipykernel)",
   "language": "python",
   "name": "python3"
  },
  "language_info": {
   "codemirror_mode": {
    "name": "ipython",
    "version": 3
   },
   "file_extension": ".py",
   "mimetype": "text/x-python",
   "name": "python",
   "nbconvert_exporter": "python",
   "pygments_lexer": "ipython3",
   "version": "3.10.8"
  }
 },
 "nbformat": 4,
 "nbformat_minor": 5
}
